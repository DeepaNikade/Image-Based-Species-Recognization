{
 "cells": [
  {
   "cell_type": "code",
   "execution_count": 2,
   "id": "0b57a1e4",
   "metadata": {},
   "outputs": [],
   "source": [
    "import tensorflow as tf\n",
    "from keras.preprocessing.image import ImageDataGenerator"
   ]
  },
  {
   "cell_type": "code",
   "execution_count": 3,
   "id": "6b3f4001",
   "metadata": {},
   "outputs": [
    {
     "data": {
      "text/plain": [
       "'2.3.0'"
      ]
     },
     "execution_count": 3,
     "metadata": {},
     "output_type": "execute_result"
    }
   ],
   "source": [
    "tf.__version__"
   ]
  },
  {
   "cell_type": "code",
   "execution_count": 3,
   "id": "af57ea60",
   "metadata": {},
   "outputs": [
    {
     "name": "stdout",
     "output_type": "stream",
     "text": [
      "Found 8000 images belonging to 2 classes.\n"
     ]
    }
   ],
   "source": [
    "#data processing\n",
    "\n",
    "train_datagen=ImageDataGenerator(rescale=1./255,\n",
    "                                 shear_range=0.2,\n",
    "                                 zoom_range=0.2,\n",
    "                                horizontal_flip=True)\n",
    "training_set=train_datagen.flow_from_directory('dataset/dogs_cats/training_set',\n",
    "                                                  target_size=(64,64),\n",
    "                                                  batch_size=32,\n",
    "                                                  class_mode='binary')"
   ]
  },
  {
   "cell_type": "code",
   "execution_count": 4,
   "id": "778752f5",
   "metadata": {},
   "outputs": [
    {
     "name": "stdout",
     "output_type": "stream",
     "text": [
      "Found 2000 images belonging to 2 classes.\n"
     ]
    }
   ],
   "source": [
    "test_datagen = ImageDataGenerator(rescale = 1./255)\n",
    "test_set = test_datagen.flow_from_directory('dataset/dogs_cats/test_set',\n",
    "                                            target_size = (64, 64),\n",
    "                                            batch_size = 32,\n",
    "                                            class_mode = 'binary')"
   ]
  },
  {
   "cell_type": "code",
   "execution_count": 5,
   "id": "ae96d394",
   "metadata": {},
   "outputs": [],
   "source": [
    "#building the CNN\n",
    "#initialising the Cnn\n",
    "\n",
    "cnn=tf.keras.models.Sequential()"
   ]
  },
  {
   "cell_type": "code",
   "execution_count": 6,
   "id": "5a9e2640",
   "metadata": {},
   "outputs": [],
   "source": [
    "cnn.add(tf.keras.layers.Conv2D(filters=32,kernel_size=3,activation='relu',input_shape=[64,64,3]))"
   ]
  },
  {
   "cell_type": "code",
   "execution_count": 8,
   "id": "47d78739",
   "metadata": {},
   "outputs": [],
   "source": [
    "#pooling\n",
    "\n",
    "cnn.add(tf.keras.layers.MaxPool2D(pool_size=2,strides=2))"
   ]
  },
  {
   "cell_type": "code",
   "execution_count": 9,
   "id": "246e185e",
   "metadata": {},
   "outputs": [],
   "source": [
    "#Adding a second convolutional layer\n",
    "cnn.add(tf.keras.layers.Conv2D(filters=32, kernel_size=3, activation='relu'))\n",
    "cnn.add(tf.keras.layers.MaxPool2D(pool_size=2, strides=2))"
   ]
  },
  {
   "cell_type": "code",
   "execution_count": 11,
   "id": "e6146c17",
   "metadata": {},
   "outputs": [],
   "source": [
    " #Flattening\n",
    "cnn.add(tf.keras.layers.Flatten())"
   ]
  },
  {
   "cell_type": "code",
   "execution_count": 12,
   "id": "8a77d2f7",
   "metadata": {},
   "outputs": [],
   "source": [
    "#Full Connection\n",
    "cnn.add(tf.keras.layers.Dense(units=128, activation='relu'))"
   ]
  },
  {
   "cell_type": "code",
   "execution_count": 13,
   "id": "ab70cf81",
   "metadata": {},
   "outputs": [],
   "source": [
    "#output layer\n",
    "cnn.add(tf.keras.layers.Dense(units=1, activation='sigmoid'))"
   ]
  },
  {
   "cell_type": "code",
   "execution_count": 14,
   "id": "f683816b",
   "metadata": {},
   "outputs": [],
   "source": [
    "#training the cnn\n",
    "cnn.compile(optimizer='adam',loss='binary_crossentropy',metrics=['accuracy'] )"
   ]
  },
  {
   "cell_type": "code",
   "execution_count": 15,
   "id": "7570df20",
   "metadata": {},
   "outputs": [],
   "source": [
    "#compiling of cnn\n",
    "cnn.compile(optimizer = 'adam', loss = 'binary_crossentropy', metrics = ['accuracy'])"
   ]
  },
  {
   "cell_type": "code",
   "execution_count": 16,
   "id": "237a56be",
   "metadata": {},
   "outputs": [
    {
     "name": "stdout",
     "output_type": "stream",
     "text": [
      "Epoch 1/25\n",
      "250/250 [==============================] - 138s 552ms/step - loss: 0.6720 - accuracy: 0.5776 - val_loss: 0.6231 - val_accuracy: 0.6685\n",
      "Epoch 2/25\n",
      "250/250 [==============================] - 47s 189ms/step - loss: 0.6079 - accuracy: 0.6709 - val_loss: 0.5748 - val_accuracy: 0.7080\n",
      "Epoch 3/25\n",
      "250/250 [==============================] - 45s 180ms/step - loss: 0.5660 - accuracy: 0.7124 - val_loss: 0.5446 - val_accuracy: 0.7250\n",
      "Epoch 4/25\n",
      "250/250 [==============================] - 44s 174ms/step - loss: 0.5474 - accuracy: 0.7218 - val_loss: 0.5835 - val_accuracy: 0.6855\n",
      "Epoch 5/25\n",
      "250/250 [==============================] - 43s 172ms/step - loss: 0.5115 - accuracy: 0.7479 - val_loss: 0.5054 - val_accuracy: 0.7560\n",
      "Epoch 6/25\n",
      "250/250 [==============================] - 44s 177ms/step - loss: 0.4964 - accuracy: 0.7564 - val_loss: 0.4872 - val_accuracy: 0.7615\n",
      "Epoch 7/25\n",
      "250/250 [==============================] - 43s 171ms/step - loss: 0.4797 - accuracy: 0.7657 - val_loss: 0.5401 - val_accuracy: 0.7435\n",
      "Epoch 8/25\n",
      "250/250 [==============================] - 46s 185ms/step - loss: 0.4781 - accuracy: 0.7678 - val_loss: 0.4889 - val_accuracy: 0.7575\n",
      "Epoch 9/25\n",
      "250/250 [==============================] - 45s 181ms/step - loss: 0.4619 - accuracy: 0.7774 - val_loss: 0.4800 - val_accuracy: 0.7770\n",
      "Epoch 10/25\n",
      "250/250 [==============================] - 48s 193ms/step - loss: 0.4390 - accuracy: 0.7890 - val_loss: 0.4732 - val_accuracy: 0.7870\n",
      "Epoch 11/25\n",
      "250/250 [==============================] - 53s 211ms/step - loss: 0.4310 - accuracy: 0.7991 - val_loss: 0.4996 - val_accuracy: 0.7735\n",
      "Epoch 12/25\n",
      "250/250 [==============================] - 54s 218ms/step - loss: 0.4264 - accuracy: 0.8006 - val_loss: 0.4791 - val_accuracy: 0.7890\n",
      "Epoch 13/25\n",
      "250/250 [==============================] - 56s 224ms/step - loss: 0.4229 - accuracy: 0.8033 - val_loss: 0.4639 - val_accuracy: 0.7930\n",
      "Epoch 14/25\n",
      "250/250 [==============================] - 50s 200ms/step - loss: 0.4022 - accuracy: 0.8196 - val_loss: 0.4560 - val_accuracy: 0.7940\n",
      "Epoch 15/25\n",
      "250/250 [==============================] - 51s 202ms/step - loss: 0.4038 - accuracy: 0.8123 - val_loss: 0.4846 - val_accuracy: 0.7920\n",
      "Epoch 16/25\n",
      "250/250 [==============================] - 51s 205ms/step - loss: 0.3911 - accuracy: 0.8225 - val_loss: 0.4975 - val_accuracy: 0.7805\n",
      "Epoch 17/25\n",
      "250/250 [==============================] - 48s 192ms/step - loss: 0.3762 - accuracy: 0.8291 - val_loss: 0.4835 - val_accuracy: 0.7925\n",
      "Epoch 18/25\n",
      "250/250 [==============================] - 43s 173ms/step - loss: 0.3634 - accuracy: 0.8340 - val_loss: 0.4894 - val_accuracy: 0.7940\n",
      "Epoch 19/25\n",
      "250/250 [==============================] - 43s 172ms/step - loss: 0.3546 - accuracy: 0.8475 - val_loss: 0.4733 - val_accuracy: 0.8025\n",
      "Epoch 20/25\n",
      "250/250 [==============================] - 42s 170ms/step - loss: 0.3466 - accuracy: 0.8429 - val_loss: 0.5595 - val_accuracy: 0.7575\n",
      "Epoch 21/25\n",
      "250/250 [==============================] - 43s 174ms/step - loss: 0.3364 - accuracy: 0.8506 - val_loss: 0.5009 - val_accuracy: 0.7965\n",
      "Epoch 22/25\n",
      "250/250 [==============================] - 43s 171ms/step - loss: 0.3224 - accuracy: 0.8576 - val_loss: 0.4868 - val_accuracy: 0.7980\n",
      "Epoch 23/25\n",
      "250/250 [==============================] - 42s 170ms/step - loss: 0.3146 - accuracy: 0.8616 - val_loss: 0.4860 - val_accuracy: 0.8030\n",
      "Epoch 24/25\n",
      "250/250 [==============================] - 44s 175ms/step - loss: 0.3044 - accuracy: 0.8675 - val_loss: 0.4715 - val_accuracy: 0.8120\n",
      "Epoch 25/25\n",
      "250/250 [==============================] - 43s 170ms/step - loss: 0.2899 - accuracy: 0.8776 - val_loss: 0.4875 - val_accuracy: 0.8050\n"
     ]
    },
    {
     "data": {
      "text/plain": [
       "<tensorflow.python.keras.callbacks.History at 0x19e881dcdf0>"
      ]
     },
     "execution_count": 16,
     "metadata": {},
     "output_type": "execute_result"
    }
   ],
   "source": [
    "#Training the CNN on the Training set and evaluating it on the Test set\n",
    "cnn.fit(x = training_set, validation_data = test_set, epochs = 25)"
   ]
  },
  {
   "cell_type": "code",
   "execution_count": 17,
   "id": "6a99012e",
   "metadata": {},
   "outputs": [],
   "source": [
    "import numpy as np\n",
    "from keras.preprocessing import image\n",
    "test_image = image.load_img('dataset/dogs_cats/single_prediction/cat_dog11.jpg', target_size = (64, 64))\n",
    "test_image = image.img_to_array(test_image)\n",
    "test_image = np.expand_dims(test_image, axis = 0)\n",
    "result = cnn.predict(test_image)\n",
    "training_set.class_indices\n",
    "if result[0][0] == 1:\n",
    "  prediction = 'dog'\n",
    "else:\n",
    "  prediction = 'cat'"
   ]
  },
  {
   "cell_type": "code",
   "execution_count": 18,
   "id": "6746d1d2",
   "metadata": {},
   "outputs": [
    {
     "name": "stdout",
     "output_type": "stream",
     "text": [
      "cat\n"
     ]
    }
   ],
   "source": [
    "print(prediction)"
   ]
  },
  {
   "cell_type": "code",
   "execution_count": 19,
   "id": "4284551f",
   "metadata": {},
   "outputs": [
    {
     "name": "stdout",
     "output_type": "stream",
     "text": [
      "[[0.]]\n"
     ]
    }
   ],
   "source": [
    "print(result)"
   ]
  },
  {
   "cell_type": "code",
   "execution_count": null,
   "id": "cb4c53ce",
   "metadata": {},
   "outputs": [],
   "source": []
  }
 ],
 "metadata": {
  "kernelspec": {
   "display_name": "Python 3",
   "language": "python",
   "name": "python3"
  },
  "language_info": {
   "codemirror_mode": {
    "name": "ipython",
    "version": 3
   },
   "file_extension": ".py",
   "mimetype": "text/x-python",
   "name": "python",
   "nbconvert_exporter": "python",
   "pygments_lexer": "ipython3",
   "version": "3.8.8"
  }
 },
 "nbformat": 4,
 "nbformat_minor": 5
}
